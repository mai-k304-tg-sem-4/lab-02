{
 "cells": [
  {
   "cell_type": "markdown",
   "id": "caece727-8e7f-4359-a469-af00718103a3",
   "metadata": {},
   "source": [
    "Программа, определяющая связность. Для графа – связность, а также\n",
    "количество и состав компонент связности. Для орграфа – сильную, слабую\n",
    "связность, или несвязность. А также количество и состав компонент\n",
    "связности и сильной связности. Для определения используется поиск в\n",
    "ширину. "
   ]
  },
  {
   "cell_type": "code",
   "execution_count": 1,
   "id": "8dc22305-e04a-4a96-bb70-34869eef76c5",
   "metadata": {},
   "outputs": [],
   "source": [
    "import numpy as np\n",
    "import sys\n",
    "from collections import deque"
   ]
  },
  {
   "cell_type": "markdown",
   "id": "686d5448-93b3-40d5-ac44-7d8a3ae40f32",
   "metadata": {},
   "source": [
    "   "
   ]
  },
  {
   "cell_type": "markdown",
   "id": "08d6b23a-1824-4dbc-bc54-070c9eb2b137",
   "metadata": {},
   "source": [
    "Реализация класса Graph и его методов."
   ]
  },
  {
   "cell_type": "code",
   "execution_count": 2,
   "id": "a55e90c0-176a-4ac1-ad10-82e7b8fb2429",
   "metadata": {},
   "outputs": [],
   "source": [
    "class Graph:\n",
    "    def __init__(self, file_path, file_type):\n",
    "        self.file_path = file_path\n",
    "        self.file_type = file_type\n",
    "        self.graph = self.load_graph()  # Загружаем граф\n",
    "\n",
    "    def load_graph(self):\n",
    "        if self.file_type == \"-e\":\n",
    "            return self.load_list_of_edges()  # Загружаем список ребер\n",
    "        elif self.file_type == \"-m\":\n",
    "            return self.load_adjacency_matrix()  # Загружаем матрицу смежности\n",
    "        elif self.file_type == \"-l\":\n",
    "            return self.load_adjacency_list()  # Загружаем список смежности\n",
    "        else:\n",
    "            raise ValueError(\"Invalid file type\")  # Некорректный тип файла\n",
    "\n",
    "    def load_adjacency_list(self):\n",
    "        with open(self.file_path, 'r') as file:\n",
    "            lines = file.readlines()  # Читаем строки файла\n",
    "        num_vertices = len(lines)  # Определяем количество вершин\n",
    "        matrix = np.zeros((num_vertices, num_vertices))  # Создаем матрицу смежности\n",
    "        matrix[:] = np.inf  # Заполняем матрицу бесконечностями\n",
    "        for i, line in enumerate(lines):  # Итерируемся по строкам\n",
    "            neighbors = line.strip().split()  # Разделяем строки на элементы\n",
    "            for neighbor in neighbors:  # Итерируемся по соседям\n",
    "                matrix[i, int(neighbor) - 1] = 1  # Заполняем матрицу значениями\n",
    "        return matrix\n",
    "\n",
    "    def load_adjacency_matrix(self):\n",
    "        with open(self.file_path, 'r') as file:\n",
    "            lines = file.readlines()  # Читаем строки файла\n",
    "        num_vertices = len(lines)  # Определяем количество вершин\n",
    "        matrix = np.zeros((num_vertices, num_vertices))  # Создаем матрицу смежности\n",
    "        matrix[:] = np.inf  # Заполняем матрицу бесконечностями\n",
    "        for i, line in enumerate(lines):  # Итерируемся по строкам\n",
    "            row = line.strip().split()  # Разделяем строки на элементы\n",
    "            for j, value in enumerate(row):  # Итерируемся по значениям строки\n",
    "                matrix[i, j] = int(value) if int(value) != 0 else np.inf  # Заполняем матрицу значениями\n",
    "        return matrix\n",
    "\n",
    "    def adjacency_matrix(self):\n",
    "        return self.graph  # Возвращаем матрицу смежности графа\n",
    "\n",
    "    def load_list_of_edges(self):\n",
    "        with open(self.file_path, 'r') as file:\n",
    "            lines = file.readlines()  # Читаем строки файла\n",
    "        num_vertices = 0\n",
    "        edges = []\n",
    "        for line in lines:  # Итерируемся по строкам\n",
    "            values = line.strip().split()  # Разделяем строки на элементы\n",
    "            if len(values) == 2:  # Если количество элементов равно 2\n",
    "                vertex1, vertex2 = values  # Присваиваем значения\n",
    "                weight = 1\n",
    "            else:\n",
    "                vertex1, vertex2, weight = values  # Присваиваем значения\n",
    "            edges.append((int(vertex1), int(vertex2), int(weight)))  # Добавляем ребро\n",
    "            num_vertices = max(num_vertices, int(vertex1), int(vertex2))  # Обновляем количество вершин\n",
    "        matrix = np.zeros((num_vertices, num_vertices))  # Создаем матрицу смежности\n",
    "        matrix[:] = np.inf  # Заполняем матрицу бесконечностями\n",
    "        for edge in edges:  # Итерируемся по ребрам\n",
    "            vertex1, vertex2, weight = edge  # Присваиваем значения\n",
    "            matrix[vertex1 - 1, vertex2 - 1] = weight  # Заполняем матрицу значениями\n",
    "            matrix[vertex2 - 1, vertex1 - 1] = weight  # Заполняем матрицу значениями (для неориентированного графа)\n",
    "        return matrix\n",
    "\n",
    "    def list_of_edges(self, v):\n",
    "        edges = []\n",
    "        for i in range(self.graph.shape[0]):\n",
    "            if self.graph[v - 1, i] != np.inf:\n",
    "                edges.append((v, i + 1, self.graph[v - 1, i]))\n",
    "        return edges\n",
    "\n",
    "    def is_directed(self):\n",
    "        return not np.array_equal(self.graph.transpose(), self.graph)  # Проверяем, является ли граф ориентированным\n",
    "\n",
    "    def breadth_first_search(self, start_vertex):\n",
    "        visited = np.zeros(self.graph.shape[0], dtype=bool)  # Создаем массив для отметки посещенных вершин\n",
    "        queue = deque()  # Создаем очередь\n",
    "        queue.append(start_vertex - 1)  # Добавляем начальную вершину в очередь\n",
    "        visited[start_vertex - 1] = True  # Отмечаем начальную вершину как посещенную\n",
    "        while queue:  # Пока очередь не пуста\n",
    "            vertex = queue.popleft()  # Извлекаем вершину из очереди\n",
    "            for neighbor in range(self.graph.shape[0]):  # Итерируемся по соседним вершинам\n",
    "                if self.graph[vertex, neighbor] != np.inf and not visited[neighbor]:  # Если соседняя вершина не посещена\n",
    "                    visited[neighbor] = True  # Отмечаем ее как посещенную\n",
    "                    queue.append(neighbor)  # Добавляем ее в очередь\n",
    "        return visited\n",
    "\n",
    "    def connected_components(self):\n",
    "        visited = np.zeros(self.graph.shape[0], dtype=bool)  # Создаем массив для отметки посещенных вершин\n",
    "        components = []  # Создаем список компонент связности\n",
    "        for vertex in range(1, self.graph.shape[0] + 1):  # Итерируемся по вершинам графа\n",
    "            if not visited[vertex - 1]:  # Если вершина не посещена\n",
    "                component = self.breadth_first_search(vertex)  # Выполняем поиск в ширину\n",
    "                components.append(component)  # Добавляем компоненту связности в список\n",
    "                visited = np.logical_or(visited, component)  # Обновляем массив посещенных вершин\n",
    "        return components\n",
    "\n",
    "    def strong_connectivity(self):\n",
    "        index_counter = [0]\n",
    "        stack = []\n",
    "        lowlinks = np.zeros(self.graph.shape[0], dtype=int)\n",
    "        index = np.full(self.graph.shape[0], -1, dtype=int)\n",
    "        on_stack = np.zeros(self.graph.shape[0], dtype=bool)\n",
    "        components = []\n",
    "\n",
    "        def strongconnect(vertex):\n",
    "            index[vertex] = index_counter[0]\n",
    "            lowlinks[vertex] = index_counter[0]\n",
    "            index_counter[0] += 1\n",
    "            stack.append(vertex)\n",
    "            on_stack[vertex] = True\n",
    "\n",
    "            for neighbor in range(self.graph.shape[0]):\n",
    "                if self.graph[vertex, neighbor] != np.inf:\n",
    "                    if index[neighbor] == -1:\n",
    "                        strongconnect(neighbor)\n",
    "                        lowlinks[vertex] = min(lowlinks[vertex], lowlinks[neighbor])\n",
    "                    elif on_stack[neighbor]:\n",
    "                        lowlinks[vertex] = min(lowlinks[vertex], index[neighbor])\n",
    "\n",
    "            if lowlinks[vertex] == index[vertex]:\n",
    "                component = np.zeros(self.graph.shape[0], dtype=bool)\n",
    "                while True:\n",
    "                    v = stack.pop()\n",
    "                    on_stack[v] = False\n",
    "                    component[v] = True\n",
    "                    if v == vertex:\n",
    "                        break\n",
    "                components.append(component)\n",
    "\n",
    "        for vertex in range(self.graph.shape[0]):\n",
    "            if index[vertex] == -1:\n",
    "                strongconnect(vertex)\n",
    "\n",
    "        return components"
   ]
  },
  {
   "cell_type": "markdown",
   "id": "fd75b551-62b3-4926-9899-8cc1aa29ab25",
   "metadata": {},
   "source": [
    "   "
   ]
  },
  {
   "cell_type": "markdown",
   "id": "33ab589e-643e-428b-bf85-c361bf82090e",
   "metadata": {},
   "source": [
    "Вывод результатов."
   ]
  },
  {
   "cell_type": "code",
   "execution_count": 3,
   "id": "9e811ecd-2c0a-41d2-99c1-3739d969f53c",
   "metadata": {},
   "outputs": [
    {
     "name": "stdout",
     "output_type": "stream",
     "text": [
      "Введите ключ параметра:\n",
      "-e: list_of edges, \n",
      "-m: matrix, \n",
      "-l: list_of_adjacency\n"
     ]
    },
    {
     "name": "stdin",
     "output_type": "stream",
     "text": [
      " -m\n"
     ]
    },
    {
     "name": "stdout",
     "output_type": "stream",
     "text": [
      "Введите название файла (в текущем каталоге):\n"
     ]
    },
    {
     "name": "stdin",
     "output_type": "stream",
     "text": [
      " matrix_t2_006.txt\n"
     ]
    },
    {
     "name": "stdout",
     "output_type": "stream",
     "text": [
      "\n",
      "\n",
      "Graph is connected.\n",
      "Connected components:\n",
      "[ 1  3 11 25]\n",
      "[ 2  7  9 15 17 22]\n",
      "[ 4  5 12 18 20]\n",
      "[6]\n",
      "[ 8 10 13 19 23]\n",
      "[14 16 21 24]\n",
      "Graph is weakly connected and contains 6 connected components.\n",
      "\n",
      "Результаты записаны в файл output.txt\n"
     ]
    }
   ],
   "source": [
    "print(\"Введите ключ параметра:\")\n",
    "print(\"-e: list_of edges, \\n-m: matrix, \\n-l: list_of_adjacency\")\n",
    "key = input()\n",
    "if key not in ['-m', '-e', '-l']:\n",
    "    print('Неверный тип ключа!')\n",
    "    sys.exit()\n",
    "print(\"Введите название файла (в текущем каталоге):\")\n",
    "file = input()\n",
    "print('\\n')\n",
    "\n",
    "g = Graph(file, key)\n",
    "\n",
    "adj_matrix = g.adjacency_matrix()\n",
    "np.set_printoptions(threshold=np.inf)\n",
    "np.set_printoptions(edgeitems=8, suppress=True)\n",
    "\n",
    "# Запись результатов в файл\n",
    "with open(\"output.txt\", 'w') as file:\n",
    "    file.write(\"Adjacency matrix:\\n\")\n",
    "    for row in adj_matrix:\n",
    "        row_str = ' '.join(map(str, row))\n",
    "        file.write(row_str + '\\n')\n",
    "    file.write('\\n')\n",
    "\n",
    "# Проверка связности\n",
    "if g.is_directed():\n",
    "    print(\"Digraph is connected.\")\n",
    "    components = g.strong_connectivity()\n",
    "    num_components = len(components)\n",
    "    print(\"Connected components:\")\n",
    "    for i, component in enumerate(components):\n",
    "        vertices = np.nonzero(component)[0] + 1\n",
    "        print(vertices)\n",
    "    print(\"Digraph is weakly connected and contains\", num_components, \"strongly connected components.\")\n",
    "    print(\"Strongly connected components:\")\n",
    "    for i, component in enumerate(components):\n",
    "        vertices = np.nonzero(component)[0] + 1\n",
    "        print(vertices)\n",
    "else:\n",
    "    print(\"Graph is connected.\")\n",
    "    components = g.connected_components()\n",
    "    num_components = len(components)\n",
    "    print(\"Connected components:\")\n",
    "    for i, component in enumerate(components):\n",
    "        vertices = np.nonzero(component)[0] + 1\n",
    "        print(vertices)\n",
    "    print(\"Graph is weakly connected and contains\", num_components, \"connected components.\\n\")\n",
    "\n",
    "\n",
    "print(\"Результаты записаны в файл output.txt\")"
   ]
  },
  {
   "cell_type": "code",
   "execution_count": null,
   "id": "f6bfe7cd-1be8-4fa5-b72a-30ed3da4f7ac",
   "metadata": {},
   "outputs": [],
   "source": []
  }
 ],
 "metadata": {
  "kernelspec": {
   "display_name": "Python 3 (ipykernel)",
   "language": "python",
   "name": "python3"
  },
  "language_info": {
   "codemirror_mode": {
    "name": "ipython",
    "version": 3
   },
   "file_extension": ".py",
   "mimetype": "text/x-python",
   "name": "python",
   "nbconvert_exporter": "python",
   "pygments_lexer": "ipython3",
   "version": "3.9.12"
  }
 },
 "nbformat": 4,
 "nbformat_minor": 5
}
